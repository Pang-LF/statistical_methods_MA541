{
 "cells": [
  {
   "cell_type": "markdown",
   "metadata": {},
   "source": [
    "### Part4～5"
   ]
  },
  {
   "cell_type": "code",
   "execution_count": 2,
   "metadata": {},
   "outputs": [],
   "source": [
    "import matplotlib.pyplot as plt\n",
    "import pandas as pd\n",
    "from pandas import DataFrame\n",
    "from pandas import Series\n",
    "import numpy as np\n",
    "from numpy import *\n",
    "#from sklearn import metrics"
   ]
  },
  {
   "cell_type": "code",
   "execution_count": 3,
   "metadata": {},
   "outputs": [
    {
     "data": {
      "text/html": [
       "<div>\n",
       "<style scoped>\n",
       "    .dataframe tbody tr th:only-of-type {\n",
       "        vertical-align: middle;\n",
       "    }\n",
       "\n",
       "    .dataframe tbody tr th {\n",
       "        vertical-align: top;\n",
       "    }\n",
       "\n",
       "    .dataframe thead th {\n",
       "        text-align: right;\n",
       "    }\n",
       "</style>\n",
       "<table border=\"1\" class=\"dataframe\">\n",
       "  <thead>\n",
       "    <tr style=\"text-align: right;\">\n",
       "      <th></th>\n",
       "      <th>Close_ETF</th>\n",
       "      <th>oil</th>\n",
       "      <th>gold</th>\n",
       "      <th>JPM</th>\n",
       "    </tr>\n",
       "  </thead>\n",
       "  <tbody>\n",
       "    <tr>\n",
       "      <th>0</th>\n",
       "      <td>97.349998</td>\n",
       "      <td>0.039242</td>\n",
       "      <td>0.004668</td>\n",
       "      <td>0.032258</td>\n",
       "    </tr>\n",
       "    <tr>\n",
       "      <th>1</th>\n",
       "      <td>97.750000</td>\n",
       "      <td>0.001953</td>\n",
       "      <td>-0.001366</td>\n",
       "      <td>-0.002948</td>\n",
       "    </tr>\n",
       "    <tr>\n",
       "      <th>2</th>\n",
       "      <td>99.160004</td>\n",
       "      <td>-0.031514</td>\n",
       "      <td>-0.007937</td>\n",
       "      <td>0.025724</td>\n",
       "    </tr>\n",
       "    <tr>\n",
       "      <th>3</th>\n",
       "      <td>99.650002</td>\n",
       "      <td>0.034552</td>\n",
       "      <td>0.014621</td>\n",
       "      <td>0.011819</td>\n",
       "    </tr>\n",
       "    <tr>\n",
       "      <th>4</th>\n",
       "      <td>99.260002</td>\n",
       "      <td>0.013619</td>\n",
       "      <td>-0.011419</td>\n",
       "      <td>0.000855</td>\n",
       "    </tr>\n",
       "  </tbody>\n",
       "</table>\n",
       "</div>"
      ],
      "text/plain": [
       "   Close_ETF       oil      gold       JPM\n",
       "0  97.349998  0.039242  0.004668  0.032258\n",
       "1  97.750000  0.001953 -0.001366 -0.002948\n",
       "2  99.160004 -0.031514 -0.007937  0.025724\n",
       "3  99.650002  0.034552  0.014621  0.011819\n",
       "4  99.260002  0.013619 -0.011419  0.000855"
      ]
     },
     "execution_count": 3,
     "metadata": {},
     "output_type": "execute_result"
    }
   ],
   "source": [
    "# import data\n",
    "df = pd.read_excel('/Users/Lotus/Desktop/stevens/MA541/project/Data.xlsx')\n",
    "df.head() # show the top 5 raws"
   ]
  },
  {
   "cell_type": "code",
   "execution_count": 4,
   "metadata": {},
   "outputs": [
    {
     "data": {
      "text/plain": [
       "0    97.349998\n",
       "1    97.750000\n",
       "2    99.160004\n",
       "3    99.650002\n",
       "4    99.260002\n",
       "Name: Close_ETF, dtype: float64"
      ]
     },
     "execution_count": 4,
     "metadata": {},
     "output_type": "execute_result"
    }
   ],
   "source": [
    "ETF = df['Close_ETF']\n",
    "ETF.head()"
   ]
  },
  {
   "cell_type": "markdown",
   "metadata": {},
   "source": [
    "### Part 4. Break your data into small groups and let them discuss the importance of the Central Limit Theorem"
   ]
  },
  {
   "cell_type": "code",
   "execution_count": 5,
   "metadata": {},
   "outputs": [
    {
     "name": "stdout",
     "output_type": "stream",
     "text": [
      "mu_x = 121.1529600120001 \n",
      "sigma_x = 12.569790313110744\n"
     ]
    }
   ],
   "source": [
    "# 1.Calculate the mean 𝜇𝑥 and the standard deviation 𝜎𝑥 of the population.\n",
    "mu_x = ETF.mean()\n",
    "sigma_x = ETF.std()\n",
    "print('mu_x =',mu_x,'\\nsigma_x =',sigma_x)"
   ]
  },
  {
   "cell_type": "code",
   "execution_count": 6,
   "metadata": {},
   "outputs": [],
   "source": [
    "# 2.Break the population into 50 groups sequentially and each group includes 20 values.\n",
    "#Groupindex= pd.qcut(ETF,50)\n",
    "#ETF.sort_values(ascending=True)\n",
    "Group1 = np.split(ETF.sort_values(ascending=True),50)"
   ]
  },
  {
   "cell_type": "code",
   "execution_count": 7,
   "metadata": {},
   "outputs": [
    {
     "name": "stdout",
     "output_type": "stream",
     "text": [
      "Mean of Group1_ 0 = 98.04999965000002\n",
      "Mean of Group1_ 1 = 99.36750080000002\n",
      "Mean of Group1_ 2 = 100.2875\n",
      "Mean of Group1_ 3 = 101.9280007\n",
      "Mean of Group1_ 4 = 103.78149985\n",
      "Mean of Group1_ 5 = 105.2115002\n",
      "Mean of Group1_ 6 = 106.85450014999999\n",
      "Mean of Group1_ 7 = 108.82600105000002\n",
      "Mean of Group1_ 8 = 109.86999940000001\n",
      "Mean of Group1_ 9 = 110.6549988\n",
      "Mean of Group1_ 10 = 111.27999994999998\n",
      "Mean of Group1_ 11 = 111.89049985\n",
      "Mean of Group1_ 12 = 112.61650044999999\n",
      "Mean of Group1_ 13 = 113.01349975000001\n",
      "Mean of Group1_ 14 = 113.43850014999998\n",
      "Mean of Group1_ 15 = 113.94449965000004\n",
      "Mean of Group1_ 16 = 114.49849954999999\n",
      "Mean of Group1_ 17 = 115.09600029999999\n",
      "Mean of Group1_ 18 = 116.09000060000001\n",
      "Mean of Group1_ 19 = 117.11099959999999\n",
      "Mean of Group1_ 20 = 117.75049969999998\n",
      "Mean of Group1_ 21 = 118.31550005000001\n",
      "Mean of Group1_ 22 = 118.89900059999998\n",
      "Mean of Group1_ 23 = 119.35500069999998\n",
      "Mean of Group1_ 24 = 119.89049994999998\n",
      "Mean of Group1_ 25 = 120.386\n",
      "Mean of Group1_ 26 = 120.94349974999997\n",
      "Mean of Group1_ 27 = 121.4145004\n",
      "Mean of Group1_ 28 = 122.24400015\n",
      "Mean of Group1_ 29 = 122.91200030000002\n",
      "Mean of Group1_ 30 = 123.56399950000002\n",
      "Mean of Group1_ 31 = 124.277\n",
      "Mean of Group1_ 32 = 125.51900054999999\n",
      "Mean of Group1_ 33 = 126.27350045\n",
      "Mean of Group1_ 34 = 126.7620006\n",
      "Mean of Group1_ 35 = 127.28150029999999\n",
      "Mean of Group1_ 36 = 128.03250045\n",
      "Mean of Group1_ 37 = 128.68600005000002\n",
      "Mean of Group1_ 38 = 129.4599999\n",
      "Mean of Group1_ 39 = 130.19849949999997\n",
      "Mean of Group1_ 40 = 130.8934991\n",
      "Mean of Group1_ 41 = 132.25049975\n",
      "Mean of Group1_ 42 = 135.77599945000003\n",
      "Mean of Group1_ 43 = 138.4115006\n",
      "Mean of Group1_ 44 = 140.3174995\n",
      "Mean of Group1_ 45 = 141.46699895\n",
      "Mean of Group1_ 46 = 142.36250079999996\n",
      "Mean of Group1_ 47 = 143.81550054999997\n",
      "Mean of Group1_ 48 = 146.00349960000003\n",
      "Mean of Group1_ 49 = 150.37549895\n"
     ]
    }
   ],
   "source": [
    "# 3.Calculate the sample mean, and draw a histogram of all the sample means\n",
    "mean_xba1=[]\n",
    "for i in range(len(Group1)):\n",
    "    mean_xba1.append(Group1[i].mean())\n",
    "    print('Mean of Group1_',i,'=',mean_xba1[i])\n",
    "    i+=1"
   ]
  },
  {
   "cell_type": "code",
   "execution_count": 8,
   "metadata": {
    "scrolled": true
   },
   "outputs": [
    {
     "data": {
      "image/png": "[encoded data removed]",
      "text/plain": [
       "<Figure size 432x288 with 1 Axes>"
      ]
     },
     "metadata": {
      "needs_background": "light"
     },
     "output_type": "display_data"
    }
   ],
   "source": [
    "plt.hist(mean_xba1)\n",
    "plt.title('sample means of ETF')\n",
    "plt.xlabel('group1')\n",
    "plt.ylabel('ETF_mean')\n",
    "plt.show()"
   ]
  },
  {
   "cell_type": "markdown",
   "metadata": {},
   "source": [
    "#### The histogram of all the sample means looks like a normal distribution, but we still need more evidence."
   ]
  },
  {
   "cell_type": "code",
   "execution_count": 9,
   "metadata": {},
   "outputs": [
    {
     "name": "stdout",
     "output_type": "stream",
     "text": [
      "mu_xba1 = 121.15296001200001 \n",
      "sigma_xba1 = 12.55694086428009\n",
      "diff_mu1 = 8.526512829121202e-14 \n",
      "diff_sigma1 = -9.74625030397669\n"
     ]
    }
   ],
   "source": [
    "# 4.Calculate the mean (𝜇𝑥) and the standard deviation (𝜎𝑥) of the sample mean\n",
    "mu_xba1=mean(mean_xba1)\n",
    "sigma_xba1=std(mean_xba1)\n",
    "print('mu_xba1 =',mu_xba1,'\\nsigma_xba1 =',sigma_xba1)\n",
    "diff_mu1 = mu_x-mu_xba1\n",
    "diff_sigma1 = sigma_x/sqrt(20)-sigma_xba1\n",
    "print('diff_mu1 =',diff_mu1,'\\ndiff_sigma1 =',diff_sigma1)"
   ]
  },
  {
   "cell_type": "code",
   "execution_count": 11,
   "metadata": {},
   "outputs": [
    {
     "name": "stdout",
     "output_type": "stream",
     "text": [
      "Mean of Group2_ 0 = 100.6829002\n",
      "Mean of Group2_ 1 = 108.28339992000001\n",
      "Mean of Group2_ 2 = 112.44780003\n",
      "Mean of Group2_ 3 = 115.34799994000005\n",
      "Mean of Group2_ 4 = 118.84210019999995\n",
      "Mean of Group2_ 5 = 121.58000011999998\n",
      "Mean of Group2_ 6 = 125.27910022\n",
      "Mean of Group2_ 7 = 128.73170003999996\n",
      "Mean of Group2_ 8 = 135.52979968\n",
      "Mean of Group2_ 9 = 144.80479977\n"
     ]
    },
    {
     "data": {
      "image/png": "[encoded data removed]",
      "text/plain": [
       "<Figure size 432x288 with 1 Axes>"
      ]
     },
     "metadata": {
      "needs_background": "light"
     },
     "output_type": "display_data"
    },
    {
     "name": "stdout",
     "output_type": "stream",
     "text": [
      "mu_xba2 = 121.152960012 \n",
      "sigma_xba2 = 12.410536289573919\n",
      "diff_mu2 = 9.947598300641403e-14 \n",
      "diff_sigma2 = -11.153557258262845\n"
     ]
    }
   ],
   "source": [
    "# 6/7.Break the population into 10 groups and repeat\n",
    "Group2 = np.split(ETF.sort_values(ascending=True),10)\n",
    "mean_xba2=[]\n",
    "for i in range(len(Group2)):\n",
    "    mean_xba2.append(Group2[i].mean())\n",
    "    print('Mean of Group2_',i,'=',mean_xba2[i])\n",
    "    i+=1\n",
    "plt.hist(mean_xba2)\n",
    "plt.title('sample means of ETF')\n",
    "plt.xlabel('group2')\n",
    "plt.ylabel('ETF_mean')\n",
    "plt.show()\n",
    "mu_xba2=mean(mean_xba2)\n",
    "sigma_xba2=std(mean_xba2)\n",
    "print('mu_xba2 =',mu_xba2,'\\nsigma_xba2 =',sigma_xba2)\n",
    "diff_mu2 = mu_x-mu_xba2\n",
    "diff_sigma2 = sigma_x/sqrt(100)-sigma_xba2\n",
    "print('diff_mu2 =',diff_mu2,'\\ndiff_sigma2 =',diff_sigma2)"
   ]
  },
  {
   "cell_type": "code",
   "execution_count": 12,
   "metadata": {},
   "outputs": [
    {
     "name": "stdout",
     "output_type": "stream",
     "text": [
      "Mean of Group3_ 0 = 122.73299945000001\n",
      "Mean of Group3_ 1 = 122.21800034999998\n",
      "Mean of Group3_ 2 = 121.37750020000001\n",
      "Mean of Group3_ 3 = 123.83400080000001\n",
      "Mean of Group3_ 4 = 120.9955002\n",
      "Mean of Group3_ 5 = 121.51050000000001\n",
      "Mean of Group3_ 6 = 121.21450075\n",
      "Mean of Group3_ 7 = 123.17400024999999\n",
      "Mean of Group3_ 8 = 120.17200044999997\n",
      "Mean of Group3_ 9 = 117.8939996\n",
      "Mean of Group3_ 10 = 123.00450009999997\n",
      "Mean of Group3_ 11 = 117.49900014999999\n",
      "Mean of Group3_ 12 = 122.3549995\n",
      "Mean of Group3_ 13 = 117.61799955000001\n",
      "Mean of Group3_ 14 = 120.6400001\n",
      "Mean of Group3_ 15 = 118.65150000000001\n",
      "Mean of Group3_ 16 = 117.33349944999998\n",
      "Mean of Group3_ 17 = 119.66749990000001\n",
      "Mean of Group3_ 18 = 120.77400060000002\n",
      "Mean of Group3_ 19 = 119.89600030000001\n",
      "Mean of Group3_ 20 = 122.39199949999997\n",
      "Mean of Group3_ 21 = 123.8424999\n",
      "Mean of Group3_ 22 = 125.21599840000002\n",
      "Mean of Group3_ 23 = 115.23049929999998\n",
      "Mean of Group3_ 24 = 124.91349985\n",
      "Mean of Group3_ 25 = 122.94249869999999\n",
      "Mean of Group3_ 26 = 127.57099990000002\n",
      "Mean of Group3_ 27 = 121.0605004\n",
      "Mean of Group3_ 28 = 126.67400049999999\n",
      "Mean of Group3_ 29 = 118.03399970000001\n",
      "Mean of Group3_ 30 = 123.99150015000002\n",
      "Mean of Group3_ 31 = 119.6355007\n",
      "Mean of Group3_ 32 = 123.60749890000002\n",
      "Mean of Group3_ 33 = 117.79900049999999\n",
      "Mean of Group3_ 34 = 119.76249955\n",
      "Mean of Group3_ 35 = 123.20849945\n",
      "Mean of Group3_ 36 = 121.0414997\n",
      "Mean of Group3_ 37 = 121.82749935000001\n",
      "Mean of Group3_ 38 = 121.7699996\n",
      "Mean of Group3_ 39 = 120.07449999999999\n",
      "Mean of Group3_ 40 = 120.97199900000001\n",
      "Mean of Group3_ 41 = 123.00750004999998\n",
      "Mean of Group3_ 42 = 119.64900135\n",
      "Mean of Group3_ 43 = 121.55600055\n",
      "Mean of Group3_ 44 = 120.46599884999998\n",
      "Mean of Group3_ 45 = 120.48800079999998\n",
      "Mean of Group3_ 46 = 122.8315006\n",
      "Mean of Group3_ 47 = 123.0124989\n",
      "Mean of Group3_ 48 = 123.56849980000001\n",
      "Mean of Group3_ 49 = 123.59300049999999\n"
     ]
    },
    {
     "data": {
      "image/png": "[encoded data removed]",
      "text/plain": [
       "<Figure size 432x288 with 1 Axes>"
      ]
     },
     "metadata": {
      "needs_background": "light"
     },
     "output_type": "display_data"
    },
    {
     "name": "stdout",
     "output_type": "stream",
     "text": [
      "mu_xba3 = 121.446009923 \n",
      "sigma_xba3 = 2.441078828562472\n",
      "diff_mu3 = -0.29304991099991184 \n",
      "diff_sigma3 = 0.3696117317409269\n"
     ]
    }
   ],
   "source": [
    "# 8/9.Generate 50 simple random samples and repeat\n",
    "Group3=[]\n",
    "for i in range(50):\n",
    "    Group3.append(ETF.sample(n=20, replace=True))\n",
    "    i+=1\n",
    "mean_xba3=[]\n",
    "for i in range(len(Group3)):\n",
    "    mean_xba3.append(Group3[i].mean())\n",
    "    print('Mean of Group3_',i,'=',mean_xba3[i])\n",
    "    i+=1\n",
    "plt.hist(mean_xba3)\n",
    "plt.title('sample means of ETF')\n",
    "plt.xlabel('group3')\n",
    "plt.ylabel('ETF_mean')\n",
    "plt.show()\n",
    "mu_xba3=mean(mean_xba3)\n",
    "sigma_xba3=std(mean_xba3)\n",
    "print('mu_xba3 =',mu_xba3,'\\nsigma_xba3 =',sigma_xba3)\n",
    "diff_mu3 = mu_x-mu_xba3\n",
    "diff_sigma3 = sigma_x/sqrt(20)-sigma_xba3\n",
    "print('diff_mu3 =',diff_mu3,'\\ndiff_sigma3 =',diff_sigma3)"
   ]
  },
  {
   "cell_type": "code",
   "execution_count": 13,
   "metadata": {},
   "outputs": [
    {
     "name": "stdout",
     "output_type": "stream",
     "text": [
      "Mean of Group4_ 0 = 122.77999986999994\n",
      "Mean of Group4_ 1 = 119.13010029999998\n",
      "Mean of Group4_ 2 = 119.84459999000002\n",
      "Mean of Group4_ 3 = 122.80160029999999\n",
      "Mean of Group4_ 4 = 120.63119999000003\n",
      "Mean of Group4_ 5 = 121.16499995999999\n",
      "Mean of Group4_ 6 = 120.3393000999999\n",
      "Mean of Group4_ 7 = 120.25380013999998\n",
      "Mean of Group4_ 8 = 120.06669944\n",
      "Mean of Group4_ 9 = 121.82479963\n"
     ]
    },
    {
     "data": {
      "image/png": "[encoded data removed]",
      "text/plain": [
       "<Figure size 432x288 with 1 Axes>"
      ]
     },
     "metadata": {
      "needs_background": "light"
     },
     "output_type": "display_data"
    },
    {
     "name": "stdout",
     "output_type": "stream",
     "text": [
      "mu_xba4 = 120.88370997199998 \n",
      "sigma_xba4 = 1.1755137145627077\n",
      "diff_mu4 = 0.26925004000011654 \n",
      "diff_sigma4 = 0.08146531674836677\n"
     ]
    }
   ],
   "source": [
    "# 10/11.Generate 10 simple random samples and repeat\n",
    "Group4=[]\n",
    "for i in range(10):\n",
    "    Group4.append(ETF.sample(n=100, replace=True))\n",
    "    i+=1\n",
    "mean_xba4=[]\n",
    "for i in range(len(Group4)):\n",
    "    mean_xba4.append(Group4[i].mean())\n",
    "    print('Mean of Group4_',i,'=',mean_xba4[i])\n",
    "    i+=1\n",
    "plt.hist(mean_xba4)\n",
    "plt.title('sample means of ETF')\n",
    "plt.xlabel('group4')\n",
    "plt.ylabel('ETF_mean')\n",
    "plt.show()\n",
    "mu_xba4=mean(mean_xba4)\n",
    "sigma_xba4=std(mean_xba4)\n",
    "print('mu_xba4 =',mu_xba4,'\\nsigma_xba4 =',sigma_xba4)\n",
    "diff_mu4 = mu_x-mu_xba4\n",
    "diff_sigma4 = sigma_x/sqrt(100)-sigma_xba4\n",
    "print('diff_mu4 =',diff_mu4,'\\ndiff_sigma4 =',diff_sigma4)"
   ]
  },
  {
   "cell_type": "markdown",
   "metadata": {},
   "source": [
    "#### 12) There is no impact on the distribution of the sample means. The Central Limite Theorem always holds even if the original variables themselves are not normally distributed. "
   ]
  },
  {
   "cell_type": "markdown",
   "metadata": {},
   "source": [
    "### Part 5. Construct a confidence interval with your data"
   ]
  },
  {
   "cell_type": "code",
   "execution_count": 23,
   "metadata": {},
   "outputs": [
    {
     "name": "stdout",
     "output_type": "stream",
     "text": [
      "mu_a = 122.10140021 \n",
      "sigma_a = 13.095536928275223\n",
      "An appropriate 95% confidence interval is (119.63772130863029,124.5650791113697)\n"
     ]
    }
   ],
   "source": [
    "# 1.Pick up one of the 10 simple random samples and construct an appropriate 95% confidence interval\n",
    "# Choose the fifth sample in Group4\n",
    "mu_a = mean(Group4[5])\n",
    "sigma_a = std(Group4[5])\n",
    "print('mu_a =',mu_a,'\\nsigma_a =',sigma_a)\n",
    "low_a = mu_a-1.96*sigma_x/sqrt(100)\n",
    "high_a = mu_a+1.96*sigma_x/sqrt(100)\n",
    "print('An appropriate 95% confidence interval is ('+str(low_a)+','+str(high_a)+')')"
   ]
  },
  {
   "cell_type": "code",
   "execution_count": 24,
   "metadata": {},
   "outputs": [
    {
     "name": "stdout",
     "output_type": "stream",
     "text": [
      "mu_b = 122.42100005 \n",
      "sigma_b = 14.598435447126125\n",
      "An appropriate 95% confidence interval is (116.91204655180535,127.92995354819466)\n"
     ]
    }
   ],
   "source": [
    "# 2.Pick up one of the 50 simple random samples and construct an appropriate 95% confidence interval\n",
    "# Choose the 25th sample in Group3\n",
    "mu_b = mean(Group3[25])\n",
    "sigma_b = std(Group3[25])\n",
    "print('mu_b =',mu_b,'\\nsigma_b =',sigma_b)\n",
    "low_b = mu_b-1.96*sigma_x/sqrt(20)\n",
    "high_b = mu_b+1.96*sigma_x/sqrt(20)\n",
    "print('An appropriate 95% confidence interval is ('+str(low_b)+','+str(high_b)+')')"
   ]
  },
  {
   "cell_type": "markdown",
   "metadata": {},
   "source": [
    "#### 3) The mean of the population is around 121.15296. The two intervals both include the true mean value. The interval based on the 10 samples is more accurate. Because the data size in each group of the 10 samples is much more than the sample number in each group of the 50 samples. It includes more information, and has a better estimation."
   ]
  },
  {
   "cell_type": "markdown",
   "metadata": {},
   "source": [
    "### 6. Form a hypothesis and test it with your data."
   ]
  },
  {
   "cell_type": "code",
   "execution_count": 28,
   "metadata": {},
   "outputs": [
    {
     "name": "stdout",
     "output_type": "stream",
     "text": [
      "Since the 95% confidence interval is (119.63772130863029,124.5650791113697)\n",
      "And Mu=100 is not in this region. Thus, we reject the null hypothesis.\n"
     ]
    }
   ],
   "source": [
    "#1.Use the same sample in Part 5.1 to test 𝑯𝟎: 𝝁 = 𝟏𝟎𝟎 vs. 𝑯𝒂: 𝝁 ≠ 𝟏𝟎𝟎\n",
    "print('Since the 95% confidence interval is ('+str(low_a)+','+str(high_a)+')')\n",
    "print('And Mu=100 is not in this region. Thus, we reject the null hypothesis.')"
   ]
  },
  {
   "cell_type": "code",
   "execution_count": 29,
   "metadata": {},
   "outputs": [
    {
     "name": "stdout",
     "output_type": "stream",
     "text": [
      "Since the appropriate 95% confidence interval is (116.91204655180535,127.92995354819466)\n",
      "And Mu=100 is not in this region. Thus, we reject the null hypothesis.\n"
     ]
    }
   ],
   "source": [
    "#2.Use the same sample in Part 5.2 to test 𝑯𝟎: 𝝁 = 𝟏𝟎𝟎 vs. 𝑯𝒂: 𝝁 ≠ 𝟏𝟎𝟎\n",
    "print('Since the appropriate 95% confidence interval is ('+str(low_b)+','+str(high_b)+')')\n",
    "print('And Mu=100 is not in this region. Thus, we reject the null hypothesis.')"
   ]
  },
  {
   "cell_type": "code",
   "execution_count": 30,
   "metadata": {},
   "outputs": [
    {
     "name": "stdout",
     "output_type": "stream",
     "text": [
      "mu_b = 122.42100005 \n",
      "sigma_b = 14.598435447126125\n",
      "Since the appropriate 95% confidence interval is (9.089481948931464,20.107388945320785)\n",
      "And sigma=15 is in this region. Thus, we accept the null hypothesis.\n"
     ]
    }
   ],
   "source": [
    "#3.Use the same sample you picked up in Step 2) of Part 5 to test 𝑯𝟎: 𝝈 = 𝟏𝟓 vs. 𝑯𝒂: 𝝈 ≠ 𝟏𝟓\n",
    "# Choose the 25th sample in Group3\n",
    "mu_b = mean(Group3[25])\n",
    "sigma_b = std(Group3[25])\n",
    "print('mu_b =',mu_b,'\\nsigma_b =',sigma_b)\n",
    "low_bs = sigma_b-1.96*sigma_x/sqrt(20)\n",
    "high_bs = sigma_b+1.96*sigma_x/sqrt(20)\n",
    "print('Since the appropriate 95% confidence interval is ('+str(low_bs)+','+str(high_bs)+')')\n",
    "print('And sigma=15 is in this region. Thus, we accept the null hypothesis.')"
   ]
  },
  {
   "cell_type": "code",
   "execution_count": 31,
   "metadata": {},
   "outputs": [
    {
     "name": "stdout",
     "output_type": "stream",
     "text": [
      "mu_b = 122.42100005 \n",
      "sigma_b = 14.598435447126125\n",
      "Since the rejection region is (-infinite,9.974849475427034)\n",
      "And 15 is not in this region. Thus, we reject the null hypothesis.\n"
     ]
    }
   ],
   "source": [
    "#4.Use the same sample you picked up in Step 2) of Part 5 to test 𝑯𝟎: 𝝈 >= 𝟏𝟓 vs. 𝑯𝒂: 𝝈 < 𝟏𝟓\n",
    "mu_b = mean(Group3[25])\n",
    "sigma_b = std(Group3[25])\n",
    "print('mu_b =',mu_b,'\\nsigma_b =',sigma_b)\n",
    "low_bs = sigma_b-1.645*sigma_x/sqrt(20)\n",
    "print('Since the rejection region is (-infinite,'+str(low_bs)+')')\n",
    "print('And 15 is not in this region. Thus, we reject the null hypothesis.')"
   ]
  }
 ],
 "metadata": {
  "kernelspec": {
   "display_name": "Python 3",
   "language": "python",
   "name": "python3"
  },
  "language_info": {
   "codemirror_mode": {
    "name": "ipython",
    "version": 3
   },
   "file_extension": ".py",
   "mimetype": "text/x-python",
   "name": "python",
   "nbconvert_exporter": "python",
   "pygments_lexer": "ipython3",
   "version": "3.7.3"
  }
 },
 "nbformat": 4,
 "nbformat_minor": 2
}
